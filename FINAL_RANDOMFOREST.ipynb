{
  "nbformat": 4,
  "nbformat_minor": 0,
  "metadata": {
    "colab": {
      "name": "FINAL_RANDOMFOREST.ipynb",
      "provenance": []
    },
    "kernelspec": {
      "name": "python3",
      "display_name": "Python 3"
    },
    "language_info": {
      "name": "python"
    }
  },
  "cells": [
    {
      "cell_type": "markdown",
      "source": [
        "#**Random Forest**"
      ],
      "metadata": {
        "id": "QyB4YJ178ygw"
      }
    },
    {
      "cell_type": "code",
      "execution_count": 25,
      "metadata": {
        "colab": {
          "base_uri": "https://localhost:8080/"
        },
        "id": "lEAKcUAC8R1J",
        "outputId": "851ff524-d003-4a99-996d-4792846fa0a8"
      },
      "outputs": [
        {
          "output_type": "stream",
          "name": "stdout",
          "text": [
            "Drive already mounted at /content/gdrive; to attempt to forcibly remount, call drive.mount(\"/content/gdrive\", force_remount=True).\n"
          ]
        }
      ],
      "source": [
        "from google.colab import drive\n",
        "drive.mount(\"/content/gdrive\")"
      ]
    },
    {
      "cell_type": "code",
      "source": [
        "%load_ext rpy2.ipython"
      ],
      "metadata": {
        "id": "Yt_CzJiO9KUQ",
        "colab": {
          "base_uri": "https://localhost:8080/"
        },
        "outputId": "15377b9d-0613-4352-984b-d00055413a0b"
      },
      "execution_count": 26,
      "outputs": [
        {
          "output_type": "stream",
          "name": "stdout",
          "text": [
            "The rpy2.ipython extension is already loaded. To reload it, use:\n",
            "  %reload_ext rpy2.ipython\n"
          ]
        }
      ]
    },
    {
      "cell_type": "code",
      "source": [
        "#%%R\n",
        "#install.packages(\"dplyr\") \n",
        "#install.packages(\"ggplot2\") \n",
        "#install.packages(\"caret\") \n",
        "#install.packages(\"e1071\") \n",
        "#install.packages(\"cowplot\") \n",
        "#install.packages(\"matrix\")\n",
        "#install.packages(\"magrittr\")\n",
        "#install.packages(\"glmnet\", dependencies=TRUE)\n",
        "#install.packages(\"groupdata2\")\n",
        "#install.packages(\"randomForest\")\n",
        "#install.packages(\"caTools\")\n",
        "#tar(\"libraryrf.tar.gz\", \"/usr/local/lib/R/site-library\")"
      ],
      "metadata": {
        "id": "PrssOvGc9VN9"
      },
      "execution_count": 27,
      "outputs": []
    },
    {
      "cell_type": "code",
      "source": [
        "#%cp libraryrf.tar.gz gdrive/MyDrive"
      ],
      "metadata": {
        "id": "-c42y2Uo4zD8"
      },
      "execution_count": 28,
      "outputs": []
    },
    {
      "cell_type": "code",
      "source": [
        "%cp gdrive/MyDrive/libraryrf.tar.gz ."
      ],
      "metadata": {
        "id": "-irRrFNE48h6"
      },
      "execution_count": 29,
      "outputs": []
    },
    {
      "cell_type": "code",
      "source": [
        "!tar xf libraryrf.tar.gz"
      ],
      "metadata": {
        "colab": {
          "base_uri": "https://localhost:8080/"
        },
        "id": "PTuSZBjr5CPh",
        "outputId": "f8263462-f096-4454-d1c6-47a680ed54f6"
      },
      "execution_count": 30,
      "outputs": [
        {
          "output_type": "stream",
          "name": "stdout",
          "text": [
            "tar: Removing leading `/' from member names\n"
          ]
        }
      ]
    },
    {
      "cell_type": "code",
      "source": [
        "%%R\n",
        ".libPaths('usr/local/lib/R/site-library/')"
      ],
      "metadata": {
        "id": "b9KgRhCs5D7i"
      },
      "execution_count": 31,
      "outputs": []
    },
    {
      "cell_type": "code",
      "source": [
        "%%R\n",
        "library(data.table) \n",
        "library(ggplot2)  \n",
        "library(caret)        \n",
        "library(e1071)      \n",
        "library(cowplot)    \n",
        "library(Matrix)\n",
        "library(magrittr)\n",
        "library(glmnet)\n",
        "library(groupdata2)\n",
        "library(class)\n",
        "library(randomForest)\n",
        "library(caTools)"
      ],
      "metadata": {
        "id": "xUJVFBuI9jBm"
      },
      "execution_count": 32,
      "outputs": []
    },
    {
      "cell_type": "code",
      "source": [
        "%%R\n",
        "data = read.csv('/content/gdrive/MyDrive/DS_CP/diabetes.csv')"
      ],
      "metadata": {
        "id": "MCzdv_-w9mXf"
      },
      "execution_count": 33,
      "outputs": []
    },
    {
      "cell_type": "code",
      "source": [
        "%%R\n",
        "colnames(data)"
      ],
      "metadata": {
        "colab": {
          "base_uri": "https://localhost:8080/"
        },
        "id": "f1PXjTfg966n",
        "outputId": "26475ee0-46ad-4c9c-8577-1d0723fa3a66"
      },
      "execution_count": 34,
      "outputs": [
        {
          "output_type": "stream",
          "name": "stdout",
          "text": [
            "[1] \"Pregnancies\"              \"Glucose\"                 \n",
            "[3] \"BloodPressure\"            \"SkinThickness\"           \n",
            "[5] \"Insulin\"                  \"BMI\"                     \n",
            "[7] \"DiabetesPedigreeFunction\" \"Age\"                     \n",
            "[9] \"Outcome\"                 \n"
          ]
        }
      ]
    },
    {
      "cell_type": "code",
      "source": [
        "%%R\n",
        "dim(data)"
      ],
      "metadata": {
        "colab": {
          "base_uri": "https://localhost:8080/"
        },
        "id": "nYMLPu5c99Gv",
        "outputId": "2ed83e04-51eb-4df0-baf3-76c774089aee"
      },
      "execution_count": 35,
      "outputs": [
        {
          "output_type": "stream",
          "name": "stdout",
          "text": [
            "[1] 768   9\n"
          ]
        }
      ]
    },
    {
      "cell_type": "code",
      "source": [
        "%%R\n",
        "sapply(data, function(x) sum(is.na(x)))"
      ],
      "metadata": {
        "colab": {
          "base_uri": "https://localhost:8080/"
        },
        "id": "R1g9OY509_oK",
        "outputId": "f6b52696-d8e7-4721-cd30-924024fcc3db"
      },
      "execution_count": 36,
      "outputs": [
        {
          "output_type": "stream",
          "name": "stdout",
          "text": [
            "             Pregnancies                  Glucose            BloodPressure \n",
            "                       0                        0                        0 \n",
            "           SkinThickness                  Insulin                      BMI \n",
            "                       0                        0                        0 \n",
            "DiabetesPedigreeFunction                      Age                  Outcome \n",
            "                       0                        0                        0 \n"
          ]
        }
      ]
    },
    {
      "cell_type": "code",
      "source": [
        "%%R\n",
        "data$Outcome <- as.factor(data$Outcome)\n",
        "table(data$Outcome)"
      ],
      "metadata": {
        "colab": {
          "base_uri": "https://localhost:8080/"
        },
        "id": "IIbL1YLO-AcH",
        "outputId": "4632c34b-1a26-4472-adab-fc12b65ad823"
      },
      "execution_count": 37,
      "outputs": [
        {
          "output_type": "stream",
          "name": "stdout",
          "text": [
            "\n",
            "  0   1 \n",
            "500 268 \n"
          ]
        }
      ]
    },
    {
      "cell_type": "code",
      "source": [
        "%%R\n",
        "summary(data)"
      ],
      "metadata": {
        "colab": {
          "base_uri": "https://localhost:8080/"
        },
        "id": "wuXyvynt-E2P",
        "outputId": "a7ae0d8b-a437-4664-c405-babd2cec1264"
      },
      "execution_count": 38,
      "outputs": [
        {
          "output_type": "stream",
          "name": "stdout",
          "text": [
            "  Pregnancies        Glucose      BloodPressure    SkinThickness  \n",
            " Min.   : 0.000   Min.   :  0.0   Min.   :  0.00   Min.   : 0.00  \n",
            " 1st Qu.: 1.000   1st Qu.: 99.0   1st Qu.: 62.00   1st Qu.: 0.00  \n",
            " Median : 3.000   Median :117.0   Median : 72.00   Median :23.00  \n",
            " Mean   : 3.845   Mean   :120.9   Mean   : 69.11   Mean   :20.54  \n",
            " 3rd Qu.: 6.000   3rd Qu.:140.2   3rd Qu.: 80.00   3rd Qu.:32.00  \n",
            " Max.   :17.000   Max.   :199.0   Max.   :122.00   Max.   :99.00  \n",
            "    Insulin           BMI        DiabetesPedigreeFunction      Age       \n",
            " Min.   :  0.0   Min.   : 0.00   Min.   :0.0780           Min.   :21.00  \n",
            " 1st Qu.:  0.0   1st Qu.:27.30   1st Qu.:0.2437           1st Qu.:24.00  \n",
            " Median : 30.5   Median :32.00   Median :0.3725           Median :29.00  \n",
            " Mean   : 79.8   Mean   :31.99   Mean   :0.4719           Mean   :33.24  \n",
            " 3rd Qu.:127.2   3rd Qu.:36.60   3rd Qu.:0.6262           3rd Qu.:41.00  \n",
            " Max.   :846.0   Max.   :67.10   Max.   :2.4200           Max.   :81.00  \n",
            " Outcome\n",
            " 0:500  \n",
            " 1:268  \n",
            "        \n",
            "        \n",
            "        \n",
            "        \n"
          ]
        }
      ]
    },
    {
      "cell_type": "code",
      "source": [
        "%%R\n",
        "str(data)"
      ],
      "metadata": {
        "colab": {
          "base_uri": "https://localhost:8080/"
        },
        "id": "8oitQLQb-Hyu",
        "outputId": "ac9856c4-3d9c-4fc7-b5c2-1da1859bc38d"
      },
      "execution_count": 39,
      "outputs": [
        {
          "output_type": "stream",
          "name": "stdout",
          "text": [
            "'data.frame':\t768 obs. of  9 variables:\n",
            " $ Pregnancies             : int  6 1 8 1 0 5 3 10 2 8 ...\n",
            " $ Glucose                 : int  148 85 183 89 137 116 78 115 197 125 ...\n",
            " $ BloodPressure           : int  72 66 64 66 40 74 50 0 70 96 ...\n",
            " $ SkinThickness           : int  35 29 0 23 35 0 32 0 45 0 ...\n",
            " $ Insulin                 : int  0 0 0 94 168 0 88 0 543 0 ...\n",
            " $ BMI                     : num  33.6 26.6 23.3 28.1 43.1 25.6 31 35.3 30.5 0 ...\n",
            " $ DiabetesPedigreeFunction: num  0.627 0.351 0.672 0.167 2.288 ...\n",
            " $ Age                     : int  50 31 32 21 33 30 26 29 53 54 ...\n",
            " $ Outcome                 : Factor w/ 2 levels \"0\",\"1\": 2 1 2 1 2 1 2 1 2 2 ...\n"
          ]
        }
      ]
    },
    {
      "cell_type": "code",
      "source": [
        "%%R\n",
        "set.seed(222)\n",
        "ind <- sample.split(data, SplitRatio = 0.8)\n",
        "train <- data[ind,]\n",
        "test <- data[-ind,]"
      ],
      "metadata": {
        "id": "OKtw49AR-qow"
      },
      "execution_count": 40,
      "outputs": []
    },
    {
      "cell_type": "code",
      "source": [
        "%%R\n",
        "table(train$Outcome)"
      ],
      "metadata": {
        "colab": {
          "base_uri": "https://localhost:8080/"
        },
        "id": "95_KlKqlGgW2",
        "outputId": "96898a0c-d832-4009-e30b-162a3511b48b"
      },
      "execution_count": 41,
      "outputs": [
        {
          "output_type": "stream",
          "name": "stdout",
          "text": [
            "\n",
            "  0   1 \n",
            "379 218 \n"
          ]
        }
      ]
    },
    {
      "cell_type": "code",
      "source": [
        "%%R\n",
        "train<-upsample(\n",
        "  train,\n",
        "  cat_col= \"Outcome\",\n",
        "  id_col = NULL,\n",
        "  id_method = \"n_ids\",\n",
        "  mark_new_rows = FALSE\n",
        ")"
      ],
      "metadata": {
        "id": "Da4N5hQr4ROM"
      },
      "execution_count": 42,
      "outputs": []
    },
    {
      "cell_type": "code",
      "source": [
        "%%R\n",
        "table(train$Outcome)"
      ],
      "metadata": {
        "colab": {
          "base_uri": "https://localhost:8080/"
        },
        "id": "PfHPnqGR4aF5",
        "outputId": "8b1a92ed-fe34-44a7-cf80-a71065390389"
      },
      "execution_count": 43,
      "outputs": [
        {
          "output_type": "stream",
          "name": "stdout",
          "text": [
            "\n",
            "  0   1 \n",
            "379 379 \n"
          ]
        }
      ]
    },
    {
      "cell_type": "code",
      "source": [
        "%%R\n",
        "set.seed(122)\n",
        "rf <- randomForest(Outcome~., data = train,\n",
        "                   ntree = 550, \n",
        "                   mtry = 8,\n",
        "                   importance = TRUE,\n",
        "                   proximity = TRUE)"
      ],
      "metadata": {
        "id": "jv9FJA8q-3WO"
      },
      "execution_count": 44,
      "outputs": []
    },
    {
      "cell_type": "code",
      "source": [
        "%%R\n",
        "p1 <- predict(rf,train)\n",
        "confusionMatrix(p1, train$Outcome)"
      ],
      "metadata": {
        "colab": {
          "base_uri": "https://localhost:8080/"
        },
        "id": "OEajm8sT_u2A",
        "outputId": "8a889000-d470-4090-98b1-11a2195dee05"
      },
      "execution_count": 45,
      "outputs": [
        {
          "output_type": "stream",
          "name": "stdout",
          "text": [
            "Confusion Matrix and Statistics\n",
            "\n",
            "          Reference\n",
            "Prediction   0   1\n",
            "         0 379   0\n",
            "         1   0 379\n",
            "                                     \n",
            "               Accuracy : 1          \n",
            "                 95% CI : (0.9951, 1)\n",
            "    No Information Rate : 0.5        \n",
            "    P-Value [Acc > NIR] : < 2.2e-16  \n",
            "                                     \n",
            "                  Kappa : 1          \n",
            "                                     \n",
            " Mcnemar's Test P-Value : NA         \n",
            "                                     \n",
            "            Sensitivity : 1.0        \n",
            "            Specificity : 1.0        \n",
            "         Pos Pred Value : 1.0        \n",
            "         Neg Pred Value : 1.0        \n",
            "             Prevalence : 0.5        \n",
            "         Detection Rate : 0.5        \n",
            "   Detection Prevalence : 0.5        \n",
            "      Balanced Accuracy : 1.0        \n",
            "                                     \n",
            "       'Positive' Class : 0          \n",
            "                                     \n"
          ]
        }
      ]
    },
    {
      "cell_type": "code",
      "source": [
        "%%R\n",
        "p2 <- predict(rf,test)\n",
        "confusionMatrix(p2,test$Outcome)"
      ],
      "metadata": {
        "colab": {
          "base_uri": "https://localhost:8080/"
        },
        "id": "LKz7Vduj_zOm",
        "outputId": "1b84f65f-38a4-49de-9503-d9cf24fa0658"
      },
      "execution_count": 46,
      "outputs": [
        {
          "output_type": "stream",
          "name": "stdout",
          "text": [
            "Confusion Matrix and Statistics\n",
            "\n",
            "          Reference\n",
            "Prediction   0   1\n",
            "         0 479  13\n",
            "         1  21 254\n",
            "                                          \n",
            "               Accuracy : 0.9557          \n",
            "                 95% CI : (0.9386, 0.9691)\n",
            "    No Information Rate : 0.6519          \n",
            "    P-Value [Acc > NIR] : <2e-16          \n",
            "                                          \n",
            "                  Kappa : 0.903           \n",
            "                                          \n",
            " Mcnemar's Test P-Value : 0.2299          \n",
            "                                          \n",
            "            Sensitivity : 0.9580          \n",
            "            Specificity : 0.9513          \n",
            "         Pos Pred Value : 0.9736          \n",
            "         Neg Pred Value : 0.9236          \n",
            "             Prevalence : 0.6519          \n",
            "         Detection Rate : 0.6245          \n",
            "   Detection Prevalence : 0.6415          \n",
            "      Balanced Accuracy : 0.9547          \n",
            "                                          \n",
            "       'Positive' Class : 0               \n",
            "                                          \n"
          ]
        }
      ]
    },
    {
      "cell_type": "code",
      "source": [
        "%%R\n",
        "plot(rf)"
      ],
      "metadata": {
        "colab": {
          "base_uri": "https://localhost:8080/",
          "height": 497
        },
        "id": "1JueJDeuAF8e",
        "outputId": "4e58062e-a31b-45f5-f62c-ea565f3df3b7"
      },
      "execution_count": 47,
      "outputs": [
        {
          "output_type": "display_data",
          "data": {
            "image/png": "[encoded data removed]"
          },
          "metadata": {}
        }
      ]
    },
    {
      "cell_type": "code",
      "source": [
        "%%R\n",
        "t <- tuneRF(train[,-9], train[,9],\n",
        "            stepFactor = 6,\n",
        "            plot = TRUE,\n",
        "            ntreeTry = 550,\n",
        "            trace = TRUE,\n",
        "            improve = 3)"
      ],
      "metadata": {
        "colab": {
          "base_uri": "https://localhost:8080/",
          "height": 619
        },
        "id": "D_rik2Uu_ziJ",
        "outputId": "395e5555-9dfd-454a-a8c9-952a695fc561"
      },
      "execution_count": 48,
      "outputs": [
        {
          "output_type": "stream",
          "name": "stdout",
          "text": [
            "mtry = 2  OOB error = 14.78% \n",
            "Searching left ...\n",
            "mtry = 1 \tOOB error = 16.23% \n",
            "-0.09821429 3 \n",
            "Searching right ...\n",
            "mtry = 8 \tOOB error = 16.23% \n",
            "-0.09821429 3 \n"
          ]
        },
        {
          "output_type": "display_data",
          "data": {
            "image/png": "[encoded data removed]"
          },
          "metadata": {}
        }
      ]
    }
  ]
}