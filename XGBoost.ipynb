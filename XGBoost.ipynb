{
  "cells": [
    {
      "cell_type": "code",
      "execution_count": 1,
      "metadata": {
        "id": "1IDeMVbAimQI"
      },
      "outputs": [],
      "source": [
        "#XGBOOST==>Extreme Gradient Boosting"
      ]
    },
    {
      "cell_type": "code",
      "execution_count": 2,
      "metadata": {
        "colab": {
          "base_uri": "https://localhost:8080/"
        },
        "id": "EBb9Iy5WooOf",
        "outputId": "b96bc71e-4b28-4262-da96-9983d4e6ffd4"
      },
      "outputs": [
        {
          "output_type": "stream",
          "name": "stdout",
          "text": [
            "Drive already mounted at /content/gdrive; to attempt to forcibly remount, call drive.mount(\"/content/gdrive\", force_remount=True).\n"
          ]
        }
      ],
      "source": [
        "from google.colab import drive\n",
        "drive.mount(\"/content/gdrive\")"
      ]
    },
    {
      "cell_type": "code",
      "execution_count": 3,
      "metadata": {
        "id": "2cFNmtguviRZ"
      },
      "outputs": [],
      "source": [
        "%load_ext rpy2.ipython"
      ]
    },
    {
      "cell_type": "code",
      "source": [
        "%cp gdrive/MyDrive/library.tar.gz ."
      ],
      "metadata": {
        "id": "0xX7h4K_1925"
      },
      "execution_count": 4,
      "outputs": []
    },
    {
      "cell_type": "code",
      "source": [
        "!tar xf library.tar.gz\n"
      ],
      "metadata": {
        "colab": {
          "base_uri": "https://localhost:8080/"
        },
        "id": "heG3dcPI2Dfn",
        "outputId": "2ae3bc04-1ff5-4421-ab97-80ffe2ca9e50"
      },
      "execution_count": 5,
      "outputs": [
        {
          "output_type": "stream",
          "name": "stdout",
          "text": [
            "tar: Removing leading `/' from member names\n"
          ]
        }
      ]
    },
    {
      "cell_type": "code",
      "source": [
        "%%R\n",
        ".libPaths('usr/local/lib/R/site-library/')"
      ],
      "metadata": {
        "id": "ilLqxw882VMy"
      },
      "execution_count": 6,
      "outputs": []
    },
    {
      "cell_type": "code",
      "execution_count": 7,
      "metadata": {
        "colab": {
          "base_uri": "https://localhost:8080/"
        },
        "id": "rphDKCXemI85",
        "outputId": "4fbc91de-c548-48d6-80a2-73089c6d0520"
      },
      "outputs": [
        {
          "output_type": "stream",
          "name": "stderr",
          "text": [
            "R[write to console]: data.table 1.14.2 using 1 threads (see ?getDTthreads).  Latest news: r-datatable.com\n",
            "\n",
            "R[write to console]: \n",
            "Attaching package: ‘dplyr’\n",
            "\n",
            "\n",
            "R[write to console]: The following objects are masked from ‘package:data.table’:\n",
            "\n",
            "    between, first, last\n",
            "\n",
            "\n",
            "R[write to console]: The following objects are masked from ‘package:stats’:\n",
            "\n",
            "    filter, lag\n",
            "\n",
            "\n",
            "R[write to console]: The following objects are masked from ‘package:base’:\n",
            "\n",
            "    intersect, setdiff, setequal, union\n",
            "\n",
            "\n",
            "R[write to console]: Loading required package: lattice\n",
            "\n",
            "R[write to console]: \n",
            "Attaching package: ‘xgboost’\n",
            "\n",
            "\n",
            "R[write to console]: The following object is masked from ‘package:dplyr’:\n",
            "\n",
            "    slice\n",
            "\n",
            "\n",
            "R[write to console]: Loaded glmnet 4.1-3\n",
            "\n"
          ]
        }
      ],
      "source": [
        "%%R\n",
        "library(data.table) \n",
        "library(dplyr)      \n",
        "library(ggplot2)  \n",
        "library(caret)     \n",
        "library(xgboost)    \n",
        "library(e1071)      \n",
        "library(cowplot)    \n",
        "library(Matrix)\n",
        "library(magrittr)\n",
        "library(glmnet)\n",
        "library(groupdata2)"
      ]
    },
    {
      "cell_type": "code",
      "execution_count": 8,
      "metadata": {
        "id": "4Np0hNV9X-4u"
      },
      "outputs": [],
      "source": [
        "%%R\n",
        "data = read.csv('/content/gdrive/My Drive/DS_CP/diabetes.csv')"
      ]
    },
    {
      "cell_type": "code",
      "execution_count": 9,
      "metadata": {
        "colab": {
          "base_uri": "https://localhost:8080/"
        },
        "id": "YwKhySNZedRX",
        "outputId": "a2ea1187-bf40-42bb-9379-2b4c54a8b66e"
      },
      "outputs": [
        {
          "output_type": "stream",
          "name": "stdout",
          "text": [
            "[1] \"Pregnancies\"              \"Glucose\"                 \n",
            "[3] \"BloodPressure\"            \"SkinThickness\"           \n",
            "[5] \"Insulin\"                  \"BMI\"                     \n",
            "[7] \"DiabetesPedigreeFunction\" \"Age\"                     \n",
            "[9] \"Outcome\"                 \n"
          ]
        }
      ],
      "source": [
        "%%R\n",
        "colnames(data)"
      ]
    },
    {
      "cell_type": "code",
      "execution_count": 10,
      "metadata": {
        "colab": {
          "base_uri": "https://localhost:8080/"
        },
        "id": "UAS68CGJeo8j",
        "outputId": "b82d66af-08df-48f8-eef1-2b02e989d693"
      },
      "outputs": [
        {
          "output_type": "stream",
          "name": "stdout",
          "text": [
            "[1] 768   9\n"
          ]
        }
      ],
      "source": [
        "%%R\n",
        "dim(data)"
      ]
    },
    {
      "cell_type": "code",
      "execution_count": 11,
      "metadata": {
        "colab": {
          "base_uri": "https://localhost:8080/"
        },
        "id": "Jco0zaFTkOPB",
        "outputId": "119b2b05-246b-4068-f2cc-2edb8c559af1"
      },
      "outputs": [
        {
          "output_type": "stream",
          "name": "stdout",
          "text": [
            "             Pregnancies                  Glucose            BloodPressure \n",
            "                       0                        0                        0 \n",
            "           SkinThickness                  Insulin                      BMI \n",
            "                       0                        0                        0 \n",
            "DiabetesPedigreeFunction                      Age                  Outcome \n",
            "                       0                        0                        0 \n"
          ]
        }
      ],
      "source": [
        "%%R\n",
        "sapply(data, function(x) sum(is.na(x)))"
      ]
    },
    {
      "cell_type": "code",
      "execution_count": 12,
      "metadata": {
        "colab": {
          "base_uri": "https://localhost:8080/"
        },
        "id": "o_C_MKX4bX6r",
        "outputId": "23fb1f23-4609-4f17-e581-477fc2b67154"
      },
      "outputs": [
        {
          "output_type": "stream",
          "name": "stdout",
          "text": [
            "  Pregnancies        Glucose      BloodPressure    SkinThickness  \n",
            " Min.   : 0.000   Min.   :  0.0   Min.   :  0.00   Min.   : 0.00  \n",
            " 1st Qu.: 1.000   1st Qu.: 99.0   1st Qu.: 62.00   1st Qu.: 0.00  \n",
            " Median : 3.000   Median :117.0   Median : 72.00   Median :23.00  \n",
            " Mean   : 3.845   Mean   :120.9   Mean   : 69.11   Mean   :20.54  \n",
            " 3rd Qu.: 6.000   3rd Qu.:140.2   3rd Qu.: 80.00   3rd Qu.:32.00  \n",
            " Max.   :17.000   Max.   :199.0   Max.   :122.00   Max.   :99.00  \n",
            "    Insulin           BMI        DiabetesPedigreeFunction      Age       \n",
            " Min.   :  0.0   Min.   : 0.00   Min.   :0.0780           Min.   :21.00  \n",
            " 1st Qu.:  0.0   1st Qu.:27.30   1st Qu.:0.2437           1st Qu.:24.00  \n",
            " Median : 30.5   Median :32.00   Median :0.3725           Median :29.00  \n",
            " Mean   : 79.8   Mean   :31.99   Mean   :0.4719           Mean   :33.24  \n",
            " 3rd Qu.:127.2   3rd Qu.:36.60   3rd Qu.:0.6262           3rd Qu.:41.00  \n",
            " Max.   :846.0   Max.   :67.10   Max.   :2.4200           Max.   :81.00  \n",
            "    Outcome     \n",
            " Min.   :0.000  \n",
            " 1st Qu.:0.000  \n",
            " Median :0.000  \n",
            " Mean   :0.349  \n",
            " 3rd Qu.:1.000  \n",
            " Max.   :1.000  \n"
          ]
        }
      ],
      "source": [
        "%%R\n",
        "summary(data)"
      ]
    },
    {
      "cell_type": "code",
      "execution_count": 13,
      "metadata": {
        "colab": {
          "base_uri": "https://localhost:8080/"
        },
        "id": "ZllpvU1hG_Qs",
        "outputId": "0eac4bcc-5e50-4df9-a7c8-acdafd7cd246"
      },
      "outputs": [
        {
          "output_type": "stream",
          "name": "stdout",
          "text": [
            "'data.frame':\t768 obs. of  9 variables:\n",
            " $ Pregnancies             : int  6 1 8 1 0 5 3 10 2 8 ...\n",
            " $ Glucose                 : int  148 85 183 89 137 116 78 115 197 125 ...\n",
            " $ BloodPressure           : int  72 66 64 66 40 74 50 0 70 96 ...\n",
            " $ SkinThickness           : int  35 29 0 23 35 0 32 0 45 0 ...\n",
            " $ Insulin                 : int  0 0 0 94 168 0 88 0 543 0 ...\n",
            " $ BMI                     : num  33.6 26.6 23.3 28.1 43.1 25.6 31 35.3 30.5 0 ...\n",
            " $ DiabetesPedigreeFunction: num  0.627 0.351 0.672 0.167 2.288 ...\n",
            " $ Age                     : int  50 31 32 21 33 30 26 29 53 54 ...\n",
            " $ Outcome                 : int  1 0 1 0 1 0 1 0 1 1 ...\n"
          ]
        }
      ],
      "source": [
        "%%R\n",
        "str(data)"
      ]
    },
    {
      "cell_type": "code",
      "source": [
        "%%R\n",
        "data<-upsample(\n",
        "  data,\n",
        "  cat_col= \"Outcome\",\n",
        "  id_col = NULL,\n",
        "  id_method = \"n_ids\",\n",
        "  mark_new_rows = FALSE\n",
        ")"
      ],
      "metadata": {
        "id": "_cMYJMCPqrHW"
      },
      "execution_count": 14,
      "outputs": []
    },
    {
      "cell_type": "code",
      "source": [
        "%%R\n",
        "n <- as.factor(data$Outcome)\n",
        "table(n)"
      ],
      "metadata": {
        "colab": {
          "base_uri": "https://localhost:8080/"
        },
        "id": "CVKlTVxgFfCy",
        "outputId": "9cd66782-08ea-4e02-d94d-de051d65cc94"
      },
      "execution_count": 15,
      "outputs": [
        {
          "output_type": "stream",
          "name": "stdout",
          "text": [
            "n\n",
            "  0   1 \n",
            "500 500 \n"
          ]
        }
      ]
    },
    {
      "cell_type": "code",
      "execution_count": 16,
      "metadata": {
        "id": "ieMnXHAzPHHk"
      },
      "outputs": [],
      "source": [
        "%%R\n",
        "set.seed(42)   # set seed - same random numbers generated\n",
        "train_ind = sample(seq_len(nrow(data)),size = 800) \n",
        "train =data[train_ind,] #creates the training dataset with row numbers stored in train_ind\n",
        "test=data[-train_ind,]  "
      ]
    },
    {
      "cell_type": "code",
      "execution_count": 17,
      "metadata": {
        "id": "cbO4DKXoMIQE"
      },
      "outputs": [],
      "source": [
        "%%R\n",
        "sparse_matrix <- sparse.model.matrix(Outcome ~ ., data = train)[,-1]"
      ]
    },
    {
      "cell_type": "code",
      "execution_count": 18,
      "metadata": {
        "id": "A1P5DCD6MWQH"
      },
      "outputs": [],
      "source": [
        "%%R\n",
        "y_train<-train$Outcome"
      ]
    },
    {
      "cell_type": "code",
      "execution_count": 19,
      "metadata": {
        "id": "SaGFecBKNb55",
        "colab": {
          "base_uri": "https://localhost:8080/"
        },
        "outputId": "07acb8fd-a137-4c4a-db3a-e387c4881d46"
      },
      "outputs": [
        {
          "output_type": "stream",
          "name": "stdout",
          "text": [
            "[02:03:09] WARNING: amalgamation/../src/learner.cc:1115: Starting in XGBoost 1.3.0, the default evaluation metric used with the objective 'binary:logistic' was changed from 'error' to 'logloss'. Explicitly set eval_metric if you'd like to restore the old behavior.\n",
            "[1]\ttrain-logloss:0.657287 \n",
            "[2]\ttrain-logloss:0.625336 \n",
            "[3]\ttrain-logloss:0.597367 \n",
            "[4]\ttrain-logloss:0.571730 \n",
            "[5]\ttrain-logloss:0.547313 \n",
            "[6]\ttrain-logloss:0.525373 \n",
            "[7]\ttrain-logloss:0.506136 \n",
            "[8]\ttrain-logloss:0.488079 \n",
            "[9]\ttrain-logloss:0.470633 \n",
            "[10]\ttrain-logloss:0.455200 \n",
            "[11]\ttrain-logloss:0.441289 \n",
            "[12]\ttrain-logloss:0.429394 \n",
            "[13]\ttrain-logloss:0.415827 \n",
            "[14]\ttrain-logloss:0.405575 \n",
            "[15]\ttrain-logloss:0.396346 \n",
            "[16]\ttrain-logloss:0.385127 \n",
            "[17]\ttrain-logloss:0.375620 \n",
            "[18]\ttrain-logloss:0.366193 \n",
            "[19]\ttrain-logloss:0.356425 \n",
            "[20]\ttrain-logloss:0.349416 \n"
          ]
        }
      ],
      "source": [
        "%%R\n",
        "bst <- xgboost(data = sparse_matrix, label = y_train, max_depth = 6, eta = 0.07, nthread = -1,nrounds = 20,objective = \"binary:logistic\")"
      ]
    },
    {
      "cell_type": "code",
      "execution_count": 20,
      "metadata": {
        "id": "EYyNfl_4Qms0"
      },
      "outputs": [],
      "source": [
        "%%R\n",
        "y_test<-test$Outcome\n",
        "test_n <- sparse.model.matrix(Outcome ~ ., data = test)[,-1]"
      ]
    },
    {
      "cell_type": "code",
      "execution_count": 21,
      "metadata": {
        "id": "hBTUlEzcRSTw",
        "colab": {
          "base_uri": "https://localhost:8080/"
        },
        "outputId": "d4efd275-a40c-4ef1-8992-8d235729499a"
      },
      "outputs": [
        {
          "output_type": "stream",
          "name": "stdout",
          "text": [
            "[1] \"test-error= 0.13\"\n",
            "[1] \"Accuracy of XGBoost model is: 0.87\"\n"
          ]
        }
      ],
      "source": [
        "%%R\n",
        "pred <- predict(bst, test_n)\n",
        "# get & print the classification error\n",
        "err <- mean(as.numeric(pred > 0.5) != y_test)\n",
        "print(paste(\"test-error=\", err))\n",
        "accuracy = 1-err\n",
        "print(paste(\"Accuracy of XGBoost model is:\",accuracy))"
      ]
    },
    {
      "cell_type": "code",
      "execution_count": 22,
      "metadata": {
        "id": "WdXO05wpN9DF",
        "colab": {
          "base_uri": "https://localhost:8080/"
        },
        "outputId": "9fd407ee-a6ae-4b59-b69b-f9a7536d3104"
      },
      "outputs": [
        {
          "output_type": "stream",
          "name": "stdout",
          "text": [
            "                    Feature       Gain\n",
            "1:                  Glucose 0.37761328\n",
            "2:                      BMI 0.17479812\n",
            "3:                      Age 0.14957120\n",
            "4: DiabetesPedigreeFunction 0.07862099\n",
            "5:            BloodPressure 0.07818734\n",
            "6:                  Insulin 0.06575149\n"
          ]
        }
      ],
      "source": [
        "%%R\n",
        "importanceRaw <- xgb.importance(feature_names = colnames(sparse_matrix), model = bst, data = sparse_matrix, label = y_train)\n",
        "importanceClean <- importanceRaw[,`:=`(Cover=NULL, Frequency=NULL)]\n",
        "head(importanceClean)"
      ]
    },
    {
      "cell_type": "code",
      "execution_count": 23,
      "metadata": {
        "id": "4A4MNWgpOAYJ",
        "colab": {
          "base_uri": "https://localhost:8080/",
          "height": 497
        },
        "outputId": "00be9ae0-0c7d-4a8c-ff23-3af0a0229743"
      },
      "outputs": [
        {
          "output_type": "display_data",
          "data": {
            "image/png": "[encoded data removed]"
          },
          "metadata": {}
        }
      ],
      "source": [
        "%%R\n",
        "xgb.plot.importance(importance_matrix = importanceRaw)"
      ]
    }
  ],
  "metadata": {
    "accelerator": "GPU",
    "colab": {
      "collapsed_sections": [],
      "name": "XGBoost.ipynb",
      "provenance": []
    },
    "kernelspec": {
      "display_name": "Python 3",
      "name": "python3"
    },
    "language_info": {
      "name": "python"
    }
  },
  "nbformat": 4,
  "nbformat_minor": 0
}