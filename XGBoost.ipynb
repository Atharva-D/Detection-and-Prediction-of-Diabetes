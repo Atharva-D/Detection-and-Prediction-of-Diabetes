{
  "cells": [
    {
      "cell_type": "code",
      "execution_count": 1,
      "metadata": {
        "id": "1IDeMVbAimQI"
      },
      "outputs": [],
      "source": [
        "#XGBOOST==>Extreme Gradient Boosting"
      ]
    },
    {
      "cell_type": "code",
      "execution_count": 2,
      "metadata": {
        "colab": {
          "base_uri": "https://localhost:8080/"
        },
        "id": "EBb9Iy5WooOf",
        "outputId": "eff594e5-9007-4783-aebc-e431b1cbd585"
      },
      "outputs": [
        {
          "output_type": "stream",
          "name": "stdout",
          "text": [
            "Drive already mounted at /content/gdrive; to attempt to forcibly remount, call drive.mount(\"/content/gdrive\", force_remount=True).\n"
          ]
        }
      ],
      "source": [
        "from google.colab import drive\n",
        "drive.mount(\"/content/gdrive\")"
      ]
    },
    {
      "cell_type": "code",
      "execution_count": 3,
      "metadata": {
        "id": "2cFNmtguviRZ"
      },
      "outputs": [],
      "source": [
        "%load_ext rpy2.ipython"
      ]
    },
    {
      "cell_type": "code",
      "source": [
        "%cp gdrive/MyDrive/library.tar.gz ."
      ],
      "metadata": {
        "id": "0xX7h4K_1925"
      },
      "execution_count": 4,
      "outputs": []
    },
    {
      "cell_type": "code",
      "source": [
        "!tar xf library.tar.gz\n"
      ],
      "metadata": {
        "colab": {
          "base_uri": "https://localhost:8080/"
        },
        "id": "heG3dcPI2Dfn",
        "outputId": "828ba6b3-893d-42e5-ae87-69a5d07b2dec"
      },
      "execution_count": 5,
      "outputs": [
        {
          "output_type": "stream",
          "name": "stdout",
          "text": [
            "tar: Removing leading `/' from member names\n"
          ]
        }
      ]
    },
    {
      "cell_type": "code",
      "source": [
        "%%R\n",
        ".libPaths('usr/local/lib/R/site-library/')"
      ],
      "metadata": {
        "id": "ilLqxw882VMy"
      },
      "execution_count": 6,
      "outputs": []
    },
    {
      "cell_type": "code",
      "source": [
        "%%R\n",
        "install.packages(\"caTools\")"
      ],
      "metadata": {
        "colab": {
          "base_uri": "https://localhost:8080/"
        },
        "id": "c8aRPFSvylPa",
        "outputId": "ae628ba0-04ae-47a5-977c-faa1693532ac"
      },
      "execution_count": 7,
      "outputs": [
        {
          "output_type": "stream",
          "name": "stderr",
          "text": [
            "R[write to console]: Installing package into ‘/content/usr/local/lib/R/site-library’\n",
            "(as ‘lib’ is unspecified)\n",
            "\n",
            "R[write to console]: trying URL 'https://cran.rstudio.com/src/contrib/caTools_1.18.2.tar.gz'\n",
            "\n",
            "R[write to console]: Content type 'application/x-gzip'\n",
            "R[write to console]:  length 64960 bytes (63 KB)\n",
            "\n",
            "R[write to console]: =\n",
            "R[write to console]: =\n",
            "R[write to console]: =\n",
            "R[write to console]: =\n",
            "R[write to console]: =\n",
            "R[write to console]: =\n",
            "R[write to console]: =\n",
            "R[write to console]: =\n",
            "R[write to console]: =\n",
            "R[write to console]: =\n",
            "R[write to console]: =\n",
            "R[write to console]: =\n",
            "R[write to console]: =\n",
            "R[write to console]: =\n",
            "R[write to console]: =\n",
            "R[write to console]: =\n",
            "R[write to console]: =\n",
            "R[write to console]: =\n",
            "R[write to console]: =\n",
            "R[write to console]: =\n",
            "R[write to console]: =\n",
            "R[write to console]: =\n",
            "R[write to console]: =\n",
            "R[write to console]: =\n",
            "R[write to console]: =\n",
            "R[write to console]: =\n",
            "R[write to console]: =\n",
            "R[write to console]: =\n",
            "R[write to console]: =\n",
            "R[write to console]: =\n",
            "R[write to console]: =\n",
            "R[write to console]: =\n",
            "R[write to console]: =\n",
            "R[write to console]: =\n",
            "R[write to console]: =\n",
            "R[write to console]: =\n",
            "R[write to console]: =\n",
            "R[write to console]: =\n",
            "R[write to console]: =\n",
            "R[write to console]: =\n",
            "R[write to console]: =\n",
            "R[write to console]: =\n",
            "R[write to console]: =\n",
            "R[write to console]: =\n",
            "R[write to console]: =\n",
            "R[write to console]: =\n",
            "R[write to console]: =\n",
            "R[write to console]: =\n",
            "R[write to console]: =\n",
            "R[write to console]: =\n",
            "R[write to console]: \n",
            "\n",
            "R[write to console]: downloaded 63 KB\n",
            "\n",
            "\n",
            "R[write to console]: \n",
            "\n",
            "R[write to console]: \n",
            "R[write to console]: The downloaded source packages are in\n",
            "\t‘/tmp/Rtmp0HUhdn/downloaded_packages’\n",
            "R[write to console]: \n",
            "R[write to console]: \n",
            "\n"
          ]
        }
      ]
    },
    {
      "cell_type": "code",
      "execution_count": 8,
      "metadata": {
        "colab": {
          "base_uri": "https://localhost:8080/"
        },
        "id": "rphDKCXemI85",
        "outputId": "7547e071-9077-48d4-8272-be80e3307b21"
      },
      "outputs": [
        {
          "output_type": "stream",
          "name": "stderr",
          "text": [
            "R[write to console]: data.table 1.14.2 using 1 threads (see ?getDTthreads).  Latest news: r-datatable.com\n",
            "\n",
            "R[write to console]: \n",
            "Attaching package: ‘dplyr’\n",
            "\n",
            "\n",
            "R[write to console]: The following objects are masked from ‘package:data.table’:\n",
            "\n",
            "    between, first, last\n",
            "\n",
            "\n",
            "R[write to console]: The following objects are masked from ‘package:stats’:\n",
            "\n",
            "    filter, lag\n",
            "\n",
            "\n",
            "R[write to console]: The following objects are masked from ‘package:base’:\n",
            "\n",
            "    intersect, setdiff, setequal, union\n",
            "\n",
            "\n",
            "R[write to console]: Loading required package: lattice\n",
            "\n",
            "R[write to console]: \n",
            "Attaching package: ‘xgboost’\n",
            "\n",
            "\n",
            "R[write to console]: The following object is masked from ‘package:dplyr’:\n",
            "\n",
            "    slice\n",
            "\n",
            "\n",
            "R[write to console]: Loaded glmnet 4.1-3\n",
            "\n"
          ]
        }
      ],
      "source": [
        "%%R\n",
        "library(data.table) \n",
        "library(dplyr)      \n",
        "library(ggplot2)  \n",
        "library(caret)     \n",
        "library(xgboost)    \n",
        "library(e1071)      \n",
        "library(cowplot)    \n",
        "library(Matrix)\n",
        "library(magrittr)\n",
        "library(glmnet)\n",
        "library(groupdata2)\n",
        "library(caTools)"
      ]
    },
    {
      "cell_type": "code",
      "execution_count": 9,
      "metadata": {
        "id": "4Np0hNV9X-4u"
      },
      "outputs": [],
      "source": [
        "%%R\n",
        "data = read.csv('/content/gdrive/My Drive/DS_CP/diabetes.csv')"
      ]
    },
    {
      "cell_type": "code",
      "execution_count": 10,
      "metadata": {
        "colab": {
          "base_uri": "https://localhost:8080/"
        },
        "id": "YwKhySNZedRX",
        "outputId": "f11683ba-b8c3-4403-96c8-217dbefcc654"
      },
      "outputs": [
        {
          "output_type": "stream",
          "name": "stdout",
          "text": [
            "[1] \"Pregnancies\"              \"Glucose\"                 \n",
            "[3] \"BloodPressure\"            \"SkinThickness\"           \n",
            "[5] \"Insulin\"                  \"BMI\"                     \n",
            "[7] \"DiabetesPedigreeFunction\" \"Age\"                     \n",
            "[9] \"Outcome\"                 \n"
          ]
        }
      ],
      "source": [
        "%%R\n",
        "colnames(data)"
      ]
    },
    {
      "cell_type": "code",
      "execution_count": 11,
      "metadata": {
        "colab": {
          "base_uri": "https://localhost:8080/"
        },
        "id": "UAS68CGJeo8j",
        "outputId": "2e06e8fd-f728-4d59-f95b-c3fb23c7c156"
      },
      "outputs": [
        {
          "output_type": "stream",
          "name": "stdout",
          "text": [
            "[1] 768   9\n"
          ]
        }
      ],
      "source": [
        "%%R\n",
        "dim(data)"
      ]
    },
    {
      "cell_type": "code",
      "execution_count": 12,
      "metadata": {
        "colab": {
          "base_uri": "https://localhost:8080/"
        },
        "id": "Jco0zaFTkOPB",
        "outputId": "f43b8b1e-2555-4cae-bb42-0a830d33b9fe"
      },
      "outputs": [
        {
          "output_type": "stream",
          "name": "stdout",
          "text": [
            "             Pregnancies                  Glucose            BloodPressure \n",
            "                       0                        0                        0 \n",
            "           SkinThickness                  Insulin                      BMI \n",
            "                       0                        0                        0 \n",
            "DiabetesPedigreeFunction                      Age                  Outcome \n",
            "                       0                        0                        0 \n"
          ]
        }
      ],
      "source": [
        "%%R\n",
        "sapply(data, function(x) sum(is.na(x)))"
      ]
    },
    {
      "cell_type": "code",
      "execution_count": 13,
      "metadata": {
        "colab": {
          "base_uri": "https://localhost:8080/"
        },
        "id": "o_C_MKX4bX6r",
        "outputId": "3a3aae58-bb01-49ef-c21e-d26f11cbf972"
      },
      "outputs": [
        {
          "output_type": "stream",
          "name": "stdout",
          "text": [
            "  Pregnancies        Glucose      BloodPressure    SkinThickness  \n",
            " Min.   : 0.000   Min.   :  0.0   Min.   :  0.00   Min.   : 0.00  \n",
            " 1st Qu.: 1.000   1st Qu.: 99.0   1st Qu.: 62.00   1st Qu.: 0.00  \n",
            " Median : 3.000   Median :117.0   Median : 72.00   Median :23.00  \n",
            " Mean   : 3.845   Mean   :120.9   Mean   : 69.11   Mean   :20.54  \n",
            " 3rd Qu.: 6.000   3rd Qu.:140.2   3rd Qu.: 80.00   3rd Qu.:32.00  \n",
            " Max.   :17.000   Max.   :199.0   Max.   :122.00   Max.   :99.00  \n",
            "    Insulin           BMI        DiabetesPedigreeFunction      Age       \n",
            " Min.   :  0.0   Min.   : 0.00   Min.   :0.0780           Min.   :21.00  \n",
            " 1st Qu.:  0.0   1st Qu.:27.30   1st Qu.:0.2437           1st Qu.:24.00  \n",
            " Median : 30.5   Median :32.00   Median :0.3725           Median :29.00  \n",
            " Mean   : 79.8   Mean   :31.99   Mean   :0.4719           Mean   :33.24  \n",
            " 3rd Qu.:127.2   3rd Qu.:36.60   3rd Qu.:0.6262           3rd Qu.:41.00  \n",
            " Max.   :846.0   Max.   :67.10   Max.   :2.4200           Max.   :81.00  \n",
            "    Outcome     \n",
            " Min.   :0.000  \n",
            " 1st Qu.:0.000  \n",
            " Median :0.000  \n",
            " Mean   :0.349  \n",
            " 3rd Qu.:1.000  \n",
            " Max.   :1.000  \n"
          ]
        }
      ],
      "source": [
        "%%R\n",
        "summary(data)"
      ]
    },
    {
      "cell_type": "code",
      "execution_count": 14,
      "metadata": {
        "colab": {
          "base_uri": "https://localhost:8080/"
        },
        "id": "ZllpvU1hG_Qs",
        "outputId": "a67e9475-9e24-4421-b0ed-def750141f60"
      },
      "outputs": [
        {
          "output_type": "stream",
          "name": "stdout",
          "text": [
            "'data.frame':\t768 obs. of  9 variables:\n",
            " $ Pregnancies             : int  6 1 8 1 0 5 3 10 2 8 ...\n",
            " $ Glucose                 : int  148 85 183 89 137 116 78 115 197 125 ...\n",
            " $ BloodPressure           : int  72 66 64 66 40 74 50 0 70 96 ...\n",
            " $ SkinThickness           : int  35 29 0 23 35 0 32 0 45 0 ...\n",
            " $ Insulin                 : int  0 0 0 94 168 0 88 0 543 0 ...\n",
            " $ BMI                     : num  33.6 26.6 23.3 28.1 43.1 25.6 31 35.3 30.5 0 ...\n",
            " $ DiabetesPedigreeFunction: num  0.627 0.351 0.672 0.167 2.288 ...\n",
            " $ Age                     : int  50 31 32 21 33 30 26 29 53 54 ...\n",
            " $ Outcome                 : int  1 0 1 0 1 0 1 0 1 1 ...\n"
          ]
        }
      ],
      "source": [
        "%%R\n",
        "str(data)"
      ]
    },
    {
      "cell_type": "code",
      "source": [
        "%%R\n",
        "data<-upsample(\n",
        "  data,\n",
        "  cat_col= \"Outcome\",\n",
        "  id_col = NULL,\n",
        "  id_method = \"n_ids\",\n",
        "  mark_new_rows = FALSE\n",
        ")"
      ],
      "metadata": {
        "id": "aWXhCgMFTHfv"
      },
      "execution_count": 15,
      "outputs": []
    },
    {
      "cell_type": "code",
      "execution_count": 16,
      "metadata": {
        "id": "ieMnXHAzPHHk"
      },
      "outputs": [],
      "source": [
        "%%R\n",
        "set.seed(42)   # set seed - same random numbers generated\n",
        "train_ind = sample.split(data, SplitRatio = 0.8)\n",
        "train = data[train_ind,] #creates the training dataset with row numbers stored in train_ind\n",
        "test= data[!train_ind,]"
      ]
    },
    {
      "cell_type": "code",
      "execution_count": 17,
      "metadata": {
        "id": "cbO4DKXoMIQE"
      },
      "outputs": [],
      "source": [
        "%%R\n",
        "sparse_matrix <- sparse.model.matrix(Outcome ~ ., data = train)[,-1]"
      ]
    },
    {
      "cell_type": "code",
      "execution_count": 18,
      "metadata": {
        "id": "A1P5DCD6MWQH"
      },
      "outputs": [],
      "source": [
        "%%R\n",
        "y_train<-train$Outcome"
      ]
    },
    {
      "cell_type": "code",
      "execution_count": 19,
      "metadata": {
        "id": "SaGFecBKNb55",
        "colab": {
          "base_uri": "https://localhost:8080/"
        },
        "outputId": "3b1c737a-6eed-4f85-907d-ba0ca8393245"
      },
      "outputs": [
        {
          "output_type": "stream",
          "name": "stdout",
          "text": [
            "[08:14:25] WARNING: amalgamation/../src/learner.cc:1115: Starting in XGBoost 1.3.0, the default evaluation metric used with the objective 'binary:logistic' was changed from 'error' to 'logloss'. Explicitly set eval_metric if you'd like to restore the old behavior.\n",
            "[1]\ttrain-logloss:0.649778 \n",
            "[2]\ttrain-logloss:0.612069 \n",
            "[3]\ttrain-logloss:0.578550 \n",
            "[4]\ttrain-logloss:0.547688 \n",
            "[5]\ttrain-logloss:0.520536 \n",
            "[6]\ttrain-logloss:0.495411 \n",
            "[7]\ttrain-logloss:0.471921 \n",
            "[8]\ttrain-logloss:0.450902 \n",
            "[9]\ttrain-logloss:0.431407 \n",
            "[10]\ttrain-logloss:0.412657 \n",
            "[11]\ttrain-logloss:0.395343 \n",
            "[12]\ttrain-logloss:0.377873 \n",
            "[13]\ttrain-logloss:0.362416 \n",
            "[14]\ttrain-logloss:0.347569 \n",
            "[15]\ttrain-logloss:0.333976 \n",
            "[16]\ttrain-logloss:0.320562 \n",
            "[17]\ttrain-logloss:0.308509 \n",
            "[18]\ttrain-logloss:0.296703 \n",
            "[19]\ttrain-logloss:0.286198 \n",
            "[20]\ttrain-logloss:0.276155 \n"
          ]
        }
      ],
      "source": [
        "%%R\n",
        "bst <- xgboost(data = sparse_matrix, label = y_train, max_depth = 10, eta = 0.07, nthread = -1,nrounds = 20,objective = \"binary:logistic\")"
      ]
    },
    {
      "cell_type": "code",
      "execution_count": 20,
      "metadata": {
        "id": "EYyNfl_4Qms0"
      },
      "outputs": [],
      "source": [
        "%%R\n",
        "y_test<-test$Outcome\n",
        "test_n <- sparse.model.matrix(Outcome ~ ., data = test)[,-1]"
      ]
    },
    {
      "cell_type": "code",
      "execution_count": 21,
      "metadata": {
        "id": "hBTUlEzcRSTw",
        "colab": {
          "base_uri": "https://localhost:8080/"
        },
        "outputId": "12ed8078-6157-46a9-e9c5-350d81128d1a"
      },
      "outputs": [
        {
          "output_type": "stream",
          "name": "stdout",
          "text": [
            "[1] \"test-error= 0.139013452914798\"\n",
            "[1] \"Accuracy of XGBoost model is: 0.860986547085202\"\n"
          ]
        }
      ],
      "source": [
        "%%R\n",
        "pred <- predict(bst, test_n)\n",
        "# get & print the classification error\n",
        "err <- mean(as.numeric(pred > 0.5) != y_test)\n",
        "print(paste(\"test-error=\", err))\n",
        "accuracy = 1-err\n",
        "print(paste(\"Accuracy of XGBoost model is:\",accuracy))"
      ]
    },
    {
      "cell_type": "code",
      "execution_count": 22,
      "metadata": {
        "id": "WdXO05wpN9DF",
        "colab": {
          "base_uri": "https://localhost:8080/"
        },
        "outputId": "2d9e5a9a-3ff2-499a-f284-5a3933376fee"
      },
      "outputs": [
        {
          "output_type": "stream",
          "name": "stdout",
          "text": [
            "                    Feature       Gain\n",
            "1:                  Glucose 0.34356143\n",
            "2:                      BMI 0.21091522\n",
            "3: DiabetesPedigreeFunction 0.11857817\n",
            "4:                  Insulin 0.09544527\n",
            "5:                      Age 0.07732352\n",
            "6:            BloodPressure 0.06845547\n"
          ]
        }
      ],
      "source": [
        "%%R\n",
        "importanceRaw <- xgb.importance(feature_names = colnames(sparse_matrix), model = bst, data = sparse_matrix, label = y_train)\n",
        "importanceClean <- importanceRaw[,`:=`(Cover=NULL, Frequency=NULL)]\n",
        "head(importanceClean)"
      ]
    },
    {
      "cell_type": "code",
      "execution_count": 23,
      "metadata": {
        "id": "4A4MNWgpOAYJ",
        "colab": {
          "base_uri": "https://localhost:8080/",
          "height": 497
        },
        "outputId": "5a232b21-1092-48c8-ed5c-7e33bd90f77d"
      },
      "outputs": [
        {
          "output_type": "display_data",
          "data": {
            "image/png": "[encoded data removed]"
          },
          "metadata": {}
        }
      ],
      "source": [
        "%%R\n",
        "xgb.plot.importance(importance_matrix = importanceRaw)"
      ]
    }
  ],
  "metadata": {
    "accelerator": "GPU",
    "colab": {
      "collapsed_sections": [],
      "name": "XGBoost.ipynb",
      "provenance": []
    },
    "kernelspec": {
      "display_name": "Python 3",
      "name": "python3"
    },
    "language_info": {
      "name": "python"
    }
  },
  "nbformat": 4,
  "nbformat_minor": 0
}