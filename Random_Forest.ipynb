{
  "nbformat": 4,
  "nbformat_minor": 0,
  "metadata": {
    "colab": {
      "name": "Random Forest.ipynb",
      "provenance": []
    },
    "kernelspec": {
      "name": "python3",
      "display_name": "Python 3"
    },
    "language_info": {
      "name": "python"
    }
  },
  "cells": [
    {
      "cell_type": "code",
      "source": [
        "from google.colab import drive\n",
        "drive.mount(\"/content/gdrive\")"
      ],
      "metadata": {
        "colab": {
          "base_uri": "https://localhost:8080/"
        },
        "id": "38q5rjt4TYNz",
        "outputId": "008a98b8-2e73-439d-9b64-2c2e42a8eb45"
      },
      "execution_count": 1,
      "outputs": [
        {
          "output_type": "stream",
          "name": "stdout",
          "text": [
            "Drive already mounted at /content/gdrive; to attempt to forcibly remount, call drive.mount(\"/content/gdrive\", force_remount=True).\n"
          ]
        }
      ]
    },
    {
      "cell_type": "code",
      "source": [
        "%load_ext rpy2.ipython"
      ],
      "metadata": {
        "id": "tz27wFXZTiXK"
      },
      "execution_count": 2,
      "outputs": []
    },
    {
      "cell_type": "code",
      "source": [
        "%%R\n",
        "install.packages(\"dplyr\") \n",
        "install.packages(\"stats\")\n",
        "install.packages(\"caret\") \n",
        "install.packages(\"randomForest\",dependencies=TRUE)\n",
        "install.packages(\"groupdata2\")"
      ],
      "metadata": {
        "colab": {
          "base_uri": "https://localhost:8080/"
        },
        "id": "OrTMsxrZUCu5",
        "outputId": "c815d353-62d8-44ab-d04e-a2cfec73c092"
      },
      "execution_count": 3,
      "outputs": [
        {
          "output_type": "stream",
          "name": "stderr",
          "text": [
            "R[write to console]: Installing package into ‘/usr/local/lib/R/site-library’\n",
            "(as ‘lib’ is unspecified)\n",
            "\n",
            "R[write to console]: trying URL 'https://cran.rstudio.com/src/contrib/dplyr_1.0.7.tar.gz'\n",
            "\n",
            "R[write to console]: Content type 'application/x-gzip'\n",
            "R[write to console]:  length 852103 bytes (832 KB)\n",
            "\n",
            "R[write to console]: =\n",
            "R[write to console]: =\n",
            "R[write to console]: =\n",
            "R[write to console]: =\n",
            "R[write to console]: =\n",
            "R[write to console]: =\n",
            "R[write to console]: =\n",
            "R[write to console]: =\n",
            "R[write to console]: =\n",
            "R[write to console]: =\n",
            "R[write to console]: =\n",
            "R[write to console]: =\n",
            "R[write to console]: =\n",
            "R[write to console]: =\n",
            "R[write to console]: =\n",
            "R[write to console]: =\n",
            "R[write to console]: =\n",
            "R[write to console]: =\n",
            "R[write to console]: =\n",
            "R[write to console]: =\n",
            "R[write to console]: =\n",
            "R[write to console]: =\n",
            "R[write to console]: =\n",
            "R[write to console]: =\n",
            "R[write to console]: =\n",
            "R[write to console]: =\n",
            "R[write to console]: =\n",
            "R[write to console]: =\n",
            "R[write to console]: =\n",
            "R[write to console]: =\n",
            "R[write to console]: =\n",
            "R[write to console]: =\n",
            "R[write to console]: =\n",
            "R[write to console]: =\n",
            "R[write to console]: =\n",
            "R[write to console]: =\n",
            "R[write to console]: =\n",
            "R[write to console]: =\n",
            "R[write to console]: =\n",
            "R[write to console]: =\n",
            "R[write to console]: =\n",
            "R[write to console]: =\n",
            "R[write to console]: =\n",
            "R[write to console]: =\n",
            "R[write to console]: =\n",
            "R[write to console]: =\n",
            "R[write to console]: =\n",
            "R[write to console]: =\n",
            "R[write to console]: =\n",
            "R[write to console]: =\n",
            "R[write to console]: \n",
            "\n",
            "R[write to console]: downloaded 832 KB\n",
            "\n",
            "\n",
            "R[write to console]: \n",
            "\n",
            "R[write to console]: \n",
            "R[write to console]: The downloaded source packages are in\n",
            "\t‘/tmp/RtmpwBGuQv/downloaded_packages’\n",
            "R[write to console]: \n",
            "R[write to console]: \n",
            "\n",
            "R[write to console]: Installing package into ‘/usr/local/lib/R/site-library’\n",
            "(as ‘lib’ is unspecified)\n",
            "\n",
            "R[write to console]: Installing package into ‘/usr/local/lib/R/site-library’\n",
            "(as ‘lib’ is unspecified)\n",
            "\n",
            "R[write to console]: trying URL 'https://cran.rstudio.com/src/contrib/caret_6.0-90.tar.gz'\n",
            "\n",
            "R[write to console]: Content type 'application/x-gzip'\n",
            "R[write to console]:  length 2335088 bytes (2.2 MB)\n",
            "\n",
            "R[write to console]: =\n",
            "R[write to console]: =\n",
            "R[write to console]: =\n",
            "R[write to console]: =\n",
            "R[write to console]: =\n",
            "R[write to console]: =\n",
            "R[write to console]: =\n",
            "R[write to console]: =\n",
            "R[write to console]: =\n",
            "R[write to console]: =\n",
            "R[write to console]: =\n",
            "R[write to console]: =\n",
            "R[write to console]: =\n",
            "R[write to console]: =\n",
            "R[write to console]: =\n",
            "R[write to console]: =\n",
            "R[write to console]: =\n",
            "R[write to console]: =\n",
            "R[write to console]: =\n",
            "R[write to console]: =\n",
            "R[write to console]: =\n",
            "R[write to console]: =\n",
            "R[write to console]: =\n",
            "R[write to console]: =\n",
            "R[write to console]: =\n",
            "R[write to console]: =\n",
            "R[write to console]: =\n",
            "R[write to console]: =\n",
            "R[write to console]: =\n",
            "R[write to console]: =\n",
            "R[write to console]: =\n",
            "R[write to console]: =\n",
            "R[write to console]: =\n",
            "R[write to console]: =\n",
            "R[write to console]: =\n",
            "R[write to console]: =\n",
            "R[write to console]: =\n",
            "R[write to console]: =\n",
            "R[write to console]: =\n",
            "R[write to console]: =\n",
            "R[write to console]: =\n",
            "R[write to console]: =\n",
            "R[write to console]: =\n",
            "R[write to console]: =\n",
            "R[write to console]: =\n",
            "R[write to console]: =\n",
            "R[write to console]: =\n",
            "R[write to console]: =\n",
            "R[write to console]: =\n",
            "R[write to console]: =\n",
            "R[write to console]: \n",
            "\n",
            "R[write to console]: downloaded 2.2 MB\n",
            "\n",
            "\n",
            "R[write to console]: \n",
            "\n",
            "R[write to console]: \n",
            "R[write to console]: The downloaded source packages are in\n",
            "\t‘/tmp/RtmpwBGuQv/downloaded_packages’\n",
            "R[write to console]: \n",
            "R[write to console]: \n",
            "\n",
            "R[write to console]: Installing package into ‘/usr/local/lib/R/site-library’\n",
            "(as ‘lib’ is unspecified)\n",
            "\n",
            "R[write to console]: trying URL 'https://cran.rstudio.com/src/contrib/randomForest_4.6-14.tar.gz'\n",
            "\n",
            "R[write to console]: Content type 'application/x-gzip'\n",
            "R[write to console]:  length 80074 bytes (78 KB)\n",
            "\n",
            "R[write to console]: =\n",
            "R[write to console]: =\n",
            "R[write to console]: =\n",
            "R[write to console]: =\n",
            "R[write to console]: =\n",
            "R[write to console]: =\n",
            "R[write to console]: =\n",
            "R[write to console]: =\n",
            "R[write to console]: =\n",
            "R[write to console]: =\n",
            "R[write to console]: =\n",
            "R[write to console]: =\n",
            "R[write to console]: =\n",
            "R[write to console]: =\n",
            "R[write to console]: =\n",
            "R[write to console]: =\n",
            "R[write to console]: =\n",
            "R[write to console]: =\n",
            "R[write to console]: =\n",
            "R[write to console]: =\n",
            "R[write to console]: =\n",
            "R[write to console]: =\n",
            "R[write to console]: =\n",
            "R[write to console]: =\n",
            "R[write to console]: =\n",
            "R[write to console]: =\n",
            "R[write to console]: =\n",
            "R[write to console]: =\n",
            "R[write to console]: =\n",
            "R[write to console]: =\n",
            "R[write to console]: =\n",
            "R[write to console]: =\n",
            "R[write to console]: =\n",
            "R[write to console]: =\n",
            "R[write to console]: =\n",
            "R[write to console]: =\n",
            "R[write to console]: =\n",
            "R[write to console]: =\n",
            "R[write to console]: =\n",
            "R[write to console]: =\n",
            "R[write to console]: =\n",
            "R[write to console]: =\n",
            "R[write to console]: =\n",
            "R[write to console]: =\n",
            "R[write to console]: =\n",
            "R[write to console]: =\n",
            "R[write to console]: =\n",
            "R[write to console]: =\n",
            "R[write to console]: =\n",
            "R[write to console]: =\n",
            "R[write to console]: \n",
            "\n",
            "R[write to console]: downloaded 78 KB\n",
            "\n",
            "\n",
            "R[write to console]: \n",
            "\n",
            "R[write to console]: \n",
            "R[write to console]: The downloaded source packages are in\n",
            "\t‘/tmp/RtmpwBGuQv/downloaded_packages’\n",
            "R[write to console]: \n",
            "R[write to console]: \n",
            "\n",
            "R[write to console]: Installing package into ‘/usr/local/lib/R/site-library’\n",
            "(as ‘lib’ is unspecified)\n",
            "\n",
            "R[write to console]: trying URL 'https://cran.rstudio.com/src/contrib/groupdata2_2.0.0.tar.gz'\n",
            "\n",
            "R[write to console]: Content type 'application/x-gzip'\n",
            "R[write to console]:  length 1288014 bytes (1.2 MB)\n",
            "\n",
            "R[write to console]: =\n",
            "R[write to console]: =\n",
            "R[write to console]: =\n",
            "R[write to console]: =\n",
            "R[write to console]: =\n",
            "R[write to console]: =\n",
            "R[write to console]: =\n",
            "R[write to console]: =\n",
            "R[write to console]: =\n",
            "R[write to console]: =\n",
            "R[write to console]: =\n",
            "R[write to console]: =\n",
            "R[write to console]: =\n",
            "R[write to console]: =\n",
            "R[write to console]: =\n",
            "R[write to console]: =\n",
            "R[write to console]: =\n",
            "R[write to console]: =\n",
            "R[write to console]: =\n",
            "R[write to console]: =\n",
            "R[write to console]: =\n",
            "R[write to console]: =\n",
            "R[write to console]: =\n",
            "R[write to console]: =\n",
            "R[write to console]: =\n",
            "R[write to console]: =\n",
            "R[write to console]: =\n",
            "R[write to console]: =\n",
            "R[write to console]: =\n",
            "R[write to console]: =\n",
            "R[write to console]: =\n",
            "R[write to console]: =\n",
            "R[write to console]: =\n",
            "R[write to console]: =\n",
            "R[write to console]: =\n",
            "R[write to console]: =\n",
            "R[write to console]: =\n",
            "R[write to console]: =\n",
            "R[write to console]: =\n",
            "R[write to console]: =\n",
            "R[write to console]: =\n",
            "R[write to console]: =\n",
            "R[write to console]: =\n",
            "R[write to console]: =\n",
            "R[write to console]: =\n",
            "R[write to console]: =\n",
            "R[write to console]: =\n",
            "R[write to console]: =\n",
            "R[write to console]: =\n",
            "R[write to console]: =\n",
            "R[write to console]: \n",
            "\n",
            "R[write to console]: downloaded 1.2 MB\n",
            "\n",
            "\n",
            "R[write to console]: \n",
            "\n",
            "R[write to console]: \n",
            "R[write to console]: The downloaded source packages are in\n",
            "\t‘/tmp/RtmpwBGuQv/downloaded_packages’\n",
            "R[write to console]: \n",
            "R[write to console]: \n",
            "\n"
          ]
        }
      ]
    },
    {
      "cell_type": "code",
      "execution_count": 4,
      "metadata": {
        "colab": {
          "base_uri": "https://localhost:8080/"
        },
        "id": "SkA1LweuTTRC",
        "outputId": "798d56ad-8219-4a78-de09-7f1ddac94d53"
      },
      "outputs": [
        {
          "output_type": "stream",
          "name": "stderr",
          "text": [
            "R[write to console]: \n",
            "Attaching package: ‘dplyr’\n",
            "\n",
            "\n",
            "R[write to console]: The following objects are masked from ‘package:stats’:\n",
            "\n",
            "    filter, lag\n",
            "\n",
            "\n",
            "R[write to console]: The following objects are masked from ‘package:base’:\n",
            "\n",
            "    intersect, setdiff, setequal, union\n",
            "\n",
            "\n",
            "R[write to console]: randomForest 4.6-14\n",
            "\n",
            "R[write to console]: Type rfNews() to see new features/changes/bug fixes.\n",
            "\n",
            "R[write to console]: \n",
            "Attaching package: ‘randomForest’\n",
            "\n",
            "\n",
            "R[write to console]: The following object is masked from ‘package:dplyr’:\n",
            "\n",
            "    combine\n",
            "\n",
            "\n",
            "R[write to console]: Loading required package: ggplot2\n",
            "\n",
            "R[write to console]: \n",
            "Attaching package: ‘ggplot2’\n",
            "\n",
            "\n",
            "R[write to console]: The following object is masked from ‘package:randomForest’:\n",
            "\n",
            "    margin\n",
            "\n",
            "\n",
            "R[write to console]: Loading required package: lattice\n",
            "\n"
          ]
        }
      ],
      "source": [
        "%%R\n",
        "library(stats)\n",
        "library(dplyr)\n",
        "library(randomForest)\n",
        "library(groupdata2)\n",
        "library(caret)"
      ]
    },
    {
      "cell_type": "code",
      "source": [
        "%%R\n",
        "data = read.csv('/content/gdrive/My Drive/DS_CP/diabetes.csv')\n",
        "str(data)"
      ],
      "metadata": {
        "colab": {
          "base_uri": "https://localhost:8080/"
        },
        "id": "j4Wu5GcHUf9q",
        "outputId": "dd12e291-ded0-45ea-9744-0a2131a28d72"
      },
      "execution_count": 5,
      "outputs": [
        {
          "output_type": "stream",
          "name": "stdout",
          "text": [
            "'data.frame':\t768 obs. of  9 variables:\n",
            " $ Pregnancies             : int  6 1 8 1 0 5 3 10 2 8 ...\n",
            " $ Glucose                 : int  148 85 183 89 137 116 78 115 197 125 ...\n",
            " $ BloodPressure           : int  72 66 64 66 40 74 50 0 70 96 ...\n",
            " $ SkinThickness           : int  35 29 0 23 35 0 32 0 45 0 ...\n",
            " $ Insulin                 : int  0 0 0 94 168 0 88 0 543 0 ...\n",
            " $ BMI                     : num  33.6 26.6 23.3 28.1 43.1 25.6 31 35.3 30.5 0 ...\n",
            " $ DiabetesPedigreeFunction: num  0.627 0.351 0.672 0.167 2.288 ...\n",
            " $ Age                     : int  50 31 32 21 33 30 26 29 53 54 ...\n",
            " $ Outcome                 : int  1 0 1 0 1 0 1 0 1 1 ...\n"
          ]
        }
      ]
    },
    {
      "cell_type": "code",
      "source": [
        "%%R\n",
        "data=upsample(\n",
        "  data,\n",
        "  cat_col= \"Outcome\",\n",
        "  id_col = NULL,\n",
        "  id_method = \"n_ids\",\n",
        "  mark_new_rows = FALSE\n",
        ")"
      ],
      "metadata": {
        "id": "_cMYJMCPqrHW"
      },
      "execution_count": 6,
      "outputs": []
    },
    {
      "cell_type": "code",
      "source": [
        "%%R\n",
        "data$Outcome <- as.factor(data$Outcome)\n",
        "table(data$Outcome)"
      ],
      "metadata": {
        "colab": {
          "base_uri": "https://localhost:8080/"
        },
        "id": "N1tDgfM_zvBA",
        "outputId": "d521202c-8b31-4dab-de50-53b03c0fe28b"
      },
      "execution_count": 7,
      "outputs": [
        {
          "output_type": "stream",
          "name": "stdout",
          "text": [
            "\n",
            "  0   1 \n",
            "500 500 \n"
          ]
        }
      ]
    },
    {
      "cell_type": "code",
      "source": [
        "%%R\n",
        "set.seed(222)\n",
        "ind <- sample(2, nrow(data), replace = TRUE,prob = c(0.8,0.2))\n",
        "train <- data[ind==1,]\n",
        "test <- data[ind==2,]\n"
      ],
      "metadata": {
        "id": "mmnAxMV-Ui-A"
      },
      "execution_count": 8,
      "outputs": []
    },
    {
      "cell_type": "code",
      "source": [
        "%%R\n",
        "set.seed(123)\n",
        "rf <- randomForest(Outcome~., data = train,\n",
        "                   ntree = 550, \n",
        "                   mtry = 2,\n",
        "                   importance = TRUE,\n",
        "                   proximity = TRUE)\n",
        "print(rf)\n",
        "attributes(rf)"
      ],
      "metadata": {
        "id": "ABaRdjztUsWN",
        "colab": {
          "base_uri": "https://localhost:8080/"
        },
        "outputId": "c02d7358-3dd1-484a-fe72-c77615ad238c"
      },
      "execution_count": 9,
      "outputs": [
        {
          "output_type": "stream",
          "name": "stdout",
          "text": [
            "\n",
            "Call:\n",
            " randomForest(formula = Outcome ~ ., data = train, ntree = 550,      mtry = 2, importance = TRUE, proximity = TRUE) \n",
            "               Type of random forest: classification\n",
            "                     Number of trees: 550\n",
            "No. of variables tried at each split: 2\n",
            "\n",
            "        OOB estimate of  error rate: 15.67%\n",
            "Confusion matrix:\n",
            "    0   1 class.error\n",
            "0 328  85   0.2058111\n",
            "1  43 361   0.1064356\n",
            "$names\n",
            " [1] \"call\"            \"type\"            \"predicted\"       \"err.rate\"       \n",
            " [5] \"confusion\"       \"votes\"           \"oob.times\"       \"classes\"        \n",
            " [9] \"importance\"      \"importanceSD\"    \"localImportance\" \"proximity\"      \n",
            "[13] \"ntree\"           \"mtry\"            \"forest\"          \"y\"              \n",
            "[17] \"test\"            \"inbag\"           \"terms\"          \n",
            "\n",
            "$class\n",
            "[1] \"randomForest.formula\" \"randomForest\"        \n",
            "\n"
          ]
        }
      ]
    },
    {
      "cell_type": "code",
      "source": [
        "%%R\n",
        "p1 <- predict(rf,train)\n",
        "confusionMatrix(p1, train$Outcome)"
      ],
      "metadata": {
        "colab": {
          "base_uri": "https://localhost:8080/"
        },
        "id": "dsStlW870ICH",
        "outputId": "872f8cea-d51e-4908-c924-33f0bb8a1f8c"
      },
      "execution_count": 11,
      "outputs": [
        {
          "output_type": "stream",
          "name": "stdout",
          "text": [
            "Confusion Matrix and Statistics\n",
            "\n",
            "          Reference\n",
            "Prediction   0   1\n",
            "         0 413   0\n",
            "         1   0 404\n",
            "                                     \n",
            "               Accuracy : 1          \n",
            "                 95% CI : (0.9955, 1)\n",
            "    No Information Rate : 0.5055     \n",
            "    P-Value [Acc > NIR] : < 2.2e-16  \n",
            "                                     \n",
            "                  Kappa : 1          \n",
            "                                     \n",
            " Mcnemar's Test P-Value : NA         \n",
            "                                     \n",
            "            Sensitivity : 1.0000     \n",
            "            Specificity : 1.0000     \n",
            "         Pos Pred Value : 1.0000     \n",
            "         Neg Pred Value : 1.0000     \n",
            "             Prevalence : 0.5055     \n",
            "         Detection Rate : 0.5055     \n",
            "   Detection Prevalence : 0.5055     \n",
            "      Balanced Accuracy : 1.0000     \n",
            "                                     \n",
            "       'Positive' Class : 0          \n",
            "                                     \n"
          ]
        }
      ]
    },
    {
      "cell_type": "code",
      "source": [
        "%%R\n",
        "p2 <- predict(rf,test)\n",
        "confusionMatrix(p2,test$Outcome)"
      ],
      "metadata": {
        "colab": {
          "base_uri": "https://localhost:8080/"
        },
        "id": "Q9rOgVk_01la",
        "outputId": "e3298e8f-478b-4b1b-dd4e-2123ef1b59c1"
      },
      "execution_count": 10,
      "outputs": [
        {
          "output_type": "stream",
          "name": "stdout",
          "text": [
            "Confusion Matrix and Statistics\n",
            "\n",
            "          Reference\n",
            "Prediction  0  1\n",
            "         0 72  4\n",
            "         1 15 92\n",
            "                                          \n",
            "               Accuracy : 0.8962          \n",
            "                 95% CI : (0.8426, 0.9363)\n",
            "    No Information Rate : 0.5246          \n",
            "    P-Value [Acc > NIR] : < 2e-16         \n",
            "                                          \n",
            "                  Kappa : 0.7906          \n",
            "                                          \n",
            " Mcnemar's Test P-Value : 0.02178         \n",
            "                                          \n",
            "            Sensitivity : 0.8276          \n",
            "            Specificity : 0.9583          \n",
            "         Pos Pred Value : 0.9474          \n",
            "         Neg Pred Value : 0.8598          \n",
            "             Prevalence : 0.4754          \n",
            "         Detection Rate : 0.3934          \n",
            "   Detection Prevalence : 0.4153          \n",
            "      Balanced Accuracy : 0.8930          \n",
            "                                          \n",
            "       'Positive' Class : 0               \n",
            "                                          \n"
          ]
        }
      ]
    },
    {
      "cell_type": "code",
      "source": [
        "%%R\n",
        "t <- tuneRF(train[,-9], train[,9],\n",
        "            stepFactor = 6,\n",
        "            plot = TRUE,\n",
        "            ntreeTry = 800,\n",
        "            trace = TRUE,\n",
        "            improve = 0.2)"
      ],
      "metadata": {
        "colab": {
          "base_uri": "https://localhost:8080/",
          "height": 619
        },
        "id": "UJNDrYOEtsT3",
        "outputId": "7ddaebfb-983c-4813-819e-53fc930bc578"
      },
      "execution_count": 12,
      "outputs": [
        {
          "output_type": "stream",
          "name": "stdout",
          "text": [
            "mtry = 2  OOB error = 15.06% \n",
            "Searching left ...\n",
            "mtry = 1 \tOOB error = 15.91% \n",
            "-0.05691057 0.2 \n",
            "Searching right ...\n",
            "mtry = 8 \tOOB error = 16.16% \n",
            "-0.07317073 0.2 \n"
          ]
        },
        {
          "output_type": "display_data",
          "data": {
            "image/png": "[encoded data removed]"
          },
          "metadata": {}
        }
      ]
    }
  ]
}